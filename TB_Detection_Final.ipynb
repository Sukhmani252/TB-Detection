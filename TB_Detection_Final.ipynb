{
  "cells": [
    {
      "cell_type": "code",
      "execution_count": null,
      "metadata": {
        "colab": {
          "base_uri": "https://localhost:8080/"
        },
        "id": "phvkeb2bh_xe",
        "outputId": "c424d602-4dba-4ef3-fa44-b0c00a4ff372"
      },
      "outputs": [
        {
          "output_type": "stream",
          "name": "stdout",
          "text": [
            "Mounted at /content/drive\n"
          ]
        }
      ],
      "source": [
        "# Mount Google Drive\n",
        "from google.colab import drive\n",
        "drive.mount('/content/drive')"
      ]
    },
    {
      "cell_type": "code",
      "execution_count": null,
      "metadata": {
        "id": "TqebHk9mLmUH"
      },
      "outputs": [],
      "source": [
        "# Import required libraries\n",
        "import os\n",
        "import zipfile\n",
        "import numpy as np\n",
        "import tensorflow as tf\n",
        "from tensorflow.keras.preprocessing.image import ImageDataGenerator\n",
        "from tensorflow.keras.layers import GlobalMaxPooling2D, Dense\n",
        "from tensorflow.keras.models import Model\n",
        "from tensorflow.keras.applications.inception_v3 import InceptionV3\n",
        "from tensorflow.keras.preprocessing.image import load_img, img_to_array\n",
        "from sklearn.svm import SVC"
      ]
    },
    {
      "cell_type": "code",
      "execution_count": null,
      "metadata": {
        "id": "glARIY-NLwz4"
      },
      "outputs": [],
      "source": [
        "# # Set the path to your zip file in Google Drive\n",
        "zip_path = '/content/drive/MyDrive/Data.zip'\n",
        "\n",
        "# # Set the path to your output directory\n",
        "output_dir = '/content/output'\n",
        "\n",
        "# # Extract the zip file to the output directory\n",
        "with zipfile.ZipFile(zip_path, 'r') as zip_ref:\n",
        "     zip_ref.extractall(output_dir)"
      ]
    },
    {
      "cell_type": "code",
      "execution_count": null,
      "metadata": {
        "id": "eq6gp8H-ieeK"
      },
      "outputs": [],
      "source": [
        "# Tuberculosis Chest X-ray Database is used from Kaggle\n",
        "train_path = \"/content/output/Data/train\"\n",
        "test_path = \"/content/output/Data/test\""
      ]
    },
    {
      "cell_type": "code",
      "execution_count": null,
      "metadata": {
        "id": "IFiyEbvXiffI"
      },
      "outputs": [],
      "source": [
        "img_size = (224, 224)\n",
        "num_channels = 3\n",
        "batch_size = 32\n",
        "num_classes = 2"
      ]
    },
    {
      "cell_type": "code",
      "execution_count": null,
      "metadata": {
        "id": "HNNfz1NJijBf"
      },
      "outputs": [],
      "source": [
        "train_datagen = ImageDataGenerator(\n",
        "    rescale=1./255,\n",
        "    shear_range=0.2,\n",
        "    zoom_range=0.2,\n",
        "    horizontal_flip=True\n",
        ")\n",
        "\n",
        "test_datagen = ImageDataGenerator(rescale=1./255)"
      ]
    },
    {
      "cell_type": "code",
      "execution_count": null,
      "metadata": {
        "colab": {
          "base_uri": "https://localhost:8080/"
        },
        "id": "dAV5O0hMiowP",
        "outputId": "09d96402-dd60-4d0f-db35-73bdd1056d57"
      },
      "outputs": [
        {
          "output_type": "stream",
          "name": "stdout",
          "text": [
            "Found 1120 images belonging to 2 classes.\n",
            "Found 280 images belonging to 2 classes.\n"
          ]
        }
      ],
      "source": [
        "train_generator = train_datagen.flow_from_directory(\n",
        "    train_path,\n",
        "    target_size=img_size,\n",
        "    batch_size=batch_size,\n",
        "    class_mode='binary'\n",
        ")\n",
        "\n",
        "test_generator = test_datagen.flow_from_directory(\n",
        "    test_path,\n",
        "    target_size=img_size,\n",
        "    batch_size=batch_size,\n",
        "    class_mode='binary',\n",
        "    shuffle=False\n",
        ")\n",
        "test_labels = test_generator.classes"
      ]
    },
    {
      "cell_type": "code",
      "execution_count": null,
      "metadata": {
        "id": "NGNh3B7li2qu"
      },
      "outputs": [],
      "source": [
        "# Load the InceptionV3 model without the top layer\n",
        "base_model = InceptionV3(weights='imagenet', include_top=False, input_shape=(224, 224, 3))"
      ]
    },
    {
      "cell_type": "code",
      "execution_count": null,
      "metadata": {
        "id": "1rYhE1E_jAnZ"
      },
      "outputs": [],
      "source": [
        "# Add GlobalMaxPooling2D layer to replace the GlobalAveragePooling2D layer\n",
        "x = base_model.output\n",
        "x = GlobalMaxPooling2D()(x)\n",
        "x = Dense(1024, activation='relu')(x)\n",
        "predictions = Dense(1, activation='sigmoid')(x)"
      ]
    },
    {
      "cell_type": "code",
      "execution_count": null,
      "metadata": {
        "id": "YL-RxwawjEWY"
      },
      "outputs": [],
      "source": [
        "model = Model(inputs=base_model.input, outputs=predictions)"
      ]
    },
    {
      "cell_type": "code",
      "execution_count": null,
      "metadata": {
        "id": "E9HlQt-bjIaL"
      },
      "outputs": [],
      "source": [
        "# Freeze the layers in the base model\n",
        "for layer in base_model.layers:\n",
        "    layer.trainable = False"
      ]
    },
    {
      "cell_type": "code",
      "execution_count": null,
      "metadata": {
        "id": "Oy9PN_H6jLnk"
      },
      "outputs": [],
      "source": [
        "# Compile the model\n",
        "model.compile(optimizer='adam', loss='binary_crossentropy', metrics=['accuracy'])"
      ]
    },
    {
      "cell_type": "code",
      "execution_count": null,
      "metadata": {
        "colab": {
          "base_uri": "https://localhost:8080/"
        },
        "id": "ukoLBEdHjPsf",
        "outputId": "503908e9-a538-4c5c-8e0c-7e67a2b6cecd"
      },
      "outputs": [
        {
          "name": "stdout",
          "output_type": "stream",
          "text": [
            "Epoch 1/10\n",
            "35/35 [==============================] - 234s 7s/step - loss: 0.1252 - accuracy: 0.9509 - val_loss: 0.0906 - val_accuracy: 0.9643\n",
            "Epoch 2/10\n",
            "35/35 [==============================] - 191s 5s/step - loss: 0.1240 - accuracy: 0.9473 - val_loss: 0.0809 - val_accuracy: 0.9714\n",
            "Epoch 3/10\n",
            "35/35 [==============================] - 188s 5s/step - loss: 0.0991 - accuracy: 0.9607 - val_loss: 0.1753 - val_accuracy: 0.9464\n",
            "Epoch 4/10\n",
            "35/35 [==============================] - 198s 6s/step - loss: 0.1212 - accuracy: 0.9536 - val_loss: 0.0822 - val_accuracy: 0.9679\n",
            "Epoch 5/10\n",
            "35/35 [==============================] - 190s 5s/step - loss: 0.1129 - accuracy: 0.9509 - val_loss: 0.0900 - val_accuracy: 0.9750\n",
            "Epoch 6/10\n",
            "35/35 [==============================] - 194s 6s/step - loss: 0.1172 - accuracy: 0.9554 - val_loss: 0.1234 - val_accuracy: 0.9607\n",
            "Epoch 7/10\n",
            "35/35 [==============================] - 189s 5s/step - loss: 0.0983 - accuracy: 0.9625 - val_loss: 0.1101 - val_accuracy: 0.9607\n",
            "Epoch 8/10\n",
            "35/35 [==============================] - 188s 5s/step - loss: 0.1093 - accuracy: 0.9571 - val_loss: 0.1322 - val_accuracy: 0.9607\n",
            "Epoch 9/10\n",
            "35/35 [==============================] - 180s 5s/step - loss: 0.1066 - accuracy: 0.9589 - val_loss: 0.1283 - val_accuracy: 0.9643\n",
            "Epoch 10/10\n",
            "35/35 [==============================] - 188s 5s/step - loss: 0.1198 - accuracy: 0.9607 - val_loss: 0.0808 - val_accuracy: 0.9714\n"
          ]
        }
      ],
      "source": [
        "# Train the model\n",
        "history = model.fit(train_generator, epochs=10, validation_data=test_generator)\n",
        "model.save('/content/drive/MyDrive/TB_Detection_Models/tb_detection_new_model.h5')"
      ]
    },
    {
      "cell_type": "code",
      "execution_count": null,
      "metadata": {
        "id": "KhfJuep6raJa"
      },
      "outputs": [],
      "source": [
        "model = tf.keras.models.load_model('/content/drive/MyDrive/TB_Detection_Models/tb_detection_new_model.h5')"
      ]
    },
    {
      "cell_type": "code",
      "execution_count": null,
      "metadata": {
        "colab": {
          "base_uri": "https://localhost:8080/"
        },
        "id": "aRMDssv-qPFv",
        "outputId": "f0cbdee9-ebe5-469f-cf2d-2217eb152899"
      },
      "outputs": [
        {
          "output_type": "stream",
          "name": "stdout",
          "text": [
            "9/9 [==============================] - 45s 4s/step - loss: 0.0808 - accuracy: 0.9714\n",
            "Test accuracy: 0.9714285731315613\n"
          ]
        }
      ],
      "source": [
        "loss, accuracy = model.evaluate(test_generator)\n",
        "print('Test accuracy:', accuracy)"
      ]
    },
    {
      "cell_type": "code",
      "execution_count": null,
      "metadata": {
        "colab": {
          "base_uri": "https://localhost:8080/"
        },
        "id": "2Y3bl6sFjnbH",
        "outputId": "3e1d3489-5c5e-4d1a-9842-156713827da1"
      },
      "outputs": [
        {
          "output_type": "stream",
          "name": "stdout",
          "text": [
            "35/35 [==============================] - 161s 5s/step\n",
            "9/9 [==============================] - 39s 4s/step\n"
          ]
        }
      ],
      "source": [
        "# Extract features using the model\n",
        "train_features = model.predict(train_generator)\n",
        "\n",
        "test_features = model.predict(test_generator)"
      ]
    },
    {
      "cell_type": "code",
      "execution_count": null,
      "metadata": {
        "colab": {
          "base_uri": "https://localhost:8080/",
          "height": 92
        },
        "id": "oxRCN0tDjq7C",
        "outputId": "aa6442a7-33ef-4c51-a1da-5d3b24df46c0"
      },
      "outputs": [
        {
          "output_type": "stream",
          "name": "stdout",
          "text": [
            "[0 0 0 ... 1 1 1]\n"
          ]
        },
        {
          "output_type": "execute_result",
          "data": {
            "text/plain": [
              "SVC(C=1, gamma='auto', kernel='linear')"
            ],
            "text/html": [
              "<style>#sk-container-id-1 {color: black;background-color: white;}#sk-container-id-1 pre{padding: 0;}#sk-container-id-1 div.sk-toggleable {background-color: white;}#sk-container-id-1 label.sk-toggleable__label {cursor: pointer;display: block;width: 100%;margin-bottom: 0;padding: 0.3em;box-sizing: border-box;text-align: center;}#sk-container-id-1 label.sk-toggleable__label-arrow:before {content: \"▸\";float: left;margin-right: 0.25em;color: #696969;}#sk-container-id-1 label.sk-toggleable__label-arrow:hover:before {color: black;}#sk-container-id-1 div.sk-estimator:hover label.sk-toggleable__label-arrow:before {color: black;}#sk-container-id-1 div.sk-toggleable__content {max-height: 0;max-width: 0;overflow: hidden;text-align: left;background-color: #f0f8ff;}#sk-container-id-1 div.sk-toggleable__content pre {margin: 0.2em;color: black;border-radius: 0.25em;background-color: #f0f8ff;}#sk-container-id-1 input.sk-toggleable__control:checked~div.sk-toggleable__content {max-height: 200px;max-width: 100%;overflow: auto;}#sk-container-id-1 input.sk-toggleable__control:checked~label.sk-toggleable__label-arrow:before {content: \"▾\";}#sk-container-id-1 div.sk-estimator input.sk-toggleable__control:checked~label.sk-toggleable__label {background-color: #d4ebff;}#sk-container-id-1 div.sk-label input.sk-toggleable__control:checked~label.sk-toggleable__label {background-color: #d4ebff;}#sk-container-id-1 input.sk-hidden--visually {border: 0;clip: rect(1px 1px 1px 1px);clip: rect(1px, 1px, 1px, 1px);height: 1px;margin: -1px;overflow: hidden;padding: 0;position: absolute;width: 1px;}#sk-container-id-1 div.sk-estimator {font-family: monospace;background-color: #f0f8ff;border: 1px dotted black;border-radius: 0.25em;box-sizing: border-box;margin-bottom: 0.5em;}#sk-container-id-1 div.sk-estimator:hover {background-color: #d4ebff;}#sk-container-id-1 div.sk-parallel-item::after {content: \"\";width: 100%;border-bottom: 1px solid gray;flex-grow: 1;}#sk-container-id-1 div.sk-label:hover label.sk-toggleable__label {background-color: #d4ebff;}#sk-container-id-1 div.sk-serial::before {content: \"\";position: absolute;border-left: 1px solid gray;box-sizing: border-box;top: 0;bottom: 0;left: 50%;z-index: 0;}#sk-container-id-1 div.sk-serial {display: flex;flex-direction: column;align-items: center;background-color: white;padding-right: 0.2em;padding-left: 0.2em;position: relative;}#sk-container-id-1 div.sk-item {position: relative;z-index: 1;}#sk-container-id-1 div.sk-parallel {display: flex;align-items: stretch;justify-content: center;background-color: white;position: relative;}#sk-container-id-1 div.sk-item::before, #sk-container-id-1 div.sk-parallel-item::before {content: \"\";position: absolute;border-left: 1px solid gray;box-sizing: border-box;top: 0;bottom: 0;left: 50%;z-index: -1;}#sk-container-id-1 div.sk-parallel-item {display: flex;flex-direction: column;z-index: 1;position: relative;background-color: white;}#sk-container-id-1 div.sk-parallel-item:first-child::after {align-self: flex-end;width: 50%;}#sk-container-id-1 div.sk-parallel-item:last-child::after {align-self: flex-start;width: 50%;}#sk-container-id-1 div.sk-parallel-item:only-child::after {width: 0;}#sk-container-id-1 div.sk-dashed-wrapped {border: 1px dashed gray;margin: 0 0.4em 0.5em 0.4em;box-sizing: border-box;padding-bottom: 0.4em;background-color: white;}#sk-container-id-1 div.sk-label label {font-family: monospace;font-weight: bold;display: inline-block;line-height: 1.2em;}#sk-container-id-1 div.sk-label-container {text-align: center;}#sk-container-id-1 div.sk-container {/* jupyter's `normalize.less` sets `[hidden] { display: none; }` but bootstrap.min.css set `[hidden] { display: none !important; }` so we also need the `!important` here to be able to override the default hidden behavior on the sphinx rendered scikit-learn.org. See: https://github.com/scikit-learn/scikit-learn/issues/21755 */display: inline-block !important;position: relative;}#sk-container-id-1 div.sk-text-repr-fallback {display: none;}</style><div id=\"sk-container-id-1\" class=\"sk-top-container\"><div class=\"sk-text-repr-fallback\"><pre>SVC(C=1, gamma=&#x27;auto&#x27;, kernel=&#x27;linear&#x27;)</pre><b>In a Jupyter environment, please rerun this cell to show the HTML representation or trust the notebook. <br />On GitHub, the HTML representation is unable to render, please try loading this page with nbviewer.org.</b></div><div class=\"sk-container\" hidden><div class=\"sk-item\"><div class=\"sk-estimator sk-toggleable\"><input class=\"sk-toggleable__control sk-hidden--visually\" id=\"sk-estimator-id-1\" type=\"checkbox\" checked><label for=\"sk-estimator-id-1\" class=\"sk-toggleable__label sk-toggleable__label-arrow\">SVC</label><div class=\"sk-toggleable__content\"><pre>SVC(C=1, gamma=&#x27;auto&#x27;, kernel=&#x27;linear&#x27;)</pre></div></div></div></div></div>"
            ]
          },
          "metadata": {},
          "execution_count": 17
        }
      ],
      "source": [
        "# Train an SVM classifier on the extracted features\n",
        "print(train_generator.classes)\n",
        "svm = SVC(kernel='linear',C=1, gamma='auto')\n",
        "svm.fit(train_features, train_generator.classes)"
      ]
    },
    {
      "cell_type": "code",
      "source": [
        "predicted_classes = svm.predict(test_features)\n",
        "\n",
        "print(predicted_classes)\n",
        "print(test_labels)"
      ],
      "metadata": {
        "colab": {
          "base_uri": "https://localhost:8080/"
        },
        "id": "1QjD4a17-wYa",
        "outputId": "b70d9e68-4fda-4890-bb47-29842d961e92"
      },
      "execution_count": null,
      "outputs": [
        {
          "output_type": "stream",
          "name": "stdout",
          "text": [
            "[0 0 0 0 0 0 0 0 0 0 0 0 0 0 0 0 0 0 0 0 0 0 0 1 0 0 1 0 0 0 0 0 0 0 0 0 0\n",
            " 0 0 0 0 0 0 0 0 0 0 0 0 1 0 0 0 0 0 0 0 0 0 0 0 0 0 0 0 0 0 0 0 0 0 0 0 0\n",
            " 0 0 0 0 0 0 0 0 0 0 0 0 0 0 0 0 0 0 0 0 0 0 0 0 0 0 0 0 0 0 0 0 0 0 0 0 0\n",
            " 0 0 0 0 0 0 0 0 0 0 0 0 0 0 0 0 0 0 0 0 0 0 0 0 0 0 0 1 0 1 1 1 1 1 1 1 1\n",
            " 1 1 1 1 1 1 1 1 1 1 1 1 1 1 1 1 1 1 1 1 1 1 1 1 1 1 1 1 1 1 1 1 1 1 1 1 1\n",
            " 1 1 1 1 1 1 1 1 1 1 1 1 1 1 1 1 0 1 0 1 1 1 1 1 1 1 1 1 1 1 1 1 1 1 1 1 0\n",
            " 1 1 1 1 1 1 1 1 1 1 1 1 1 1 1 1 1 1 1 1 1 1 1 1 1 1 1 1 1 0 1 1 1 1 1 1 1\n",
            " 1 1 1 1 1 1 1 1 1 1 1 1 1 1 1 1 1 1 1 1 1]\n",
            "[0 0 0 0 0 0 0 0 0 0 0 0 0 0 0 0 0 0 0 0 0 0 0 0 0 0 0 0 0 0 0 0 0 0 0 0 0\n",
            " 0 0 0 0 0 0 0 0 0 0 0 0 0 0 0 0 0 0 0 0 0 0 0 0 0 0 0 0 0 0 0 0 0 0 0 0 0\n",
            " 0 0 0 0 0 0 0 0 0 0 0 0 0 0 0 0 0 0 0 0 0 0 0 0 0 0 0 0 0 0 0 0 0 0 0 0 0\n",
            " 0 0 0 0 0 0 0 0 0 0 0 0 0 0 0 0 0 0 0 0 0 0 0 0 0 0 0 0 0 1 1 1 1 1 1 1 1\n",
            " 1 1 1 1 1 1 1 1 1 1 1 1 1 1 1 1 1 1 1 1 1 1 1 1 1 1 1 1 1 1 1 1 1 1 1 1 1\n",
            " 1 1 1 1 1 1 1 1 1 1 1 1 1 1 1 1 1 1 1 1 1 1 1 1 1 1 1 1 1 1 1 1 1 1 1 1 1\n",
            " 1 1 1 1 1 1 1 1 1 1 1 1 1 1 1 1 1 1 1 1 1 1 1 1 1 1 1 1 1 1 1 1 1 1 1 1 1\n",
            " 1 1 1 1 1 1 1 1 1 1 1 1 1 1 1 1 1 1 1 1 1]\n"
          ]
        }
      ]
    },
    {
      "cell_type": "code",
      "execution_count": null,
      "metadata": {
        "id": "6IPhC9XEj1q0"
      },
      "outputs": [],
      "source": [
        "test_image_path = '/content/output/Data/test/Tuberculosis/Tuberculosis-666.png'\n",
        "test_image = load_img(test_image_path, target_size=(224, 224))\n",
        "# Preprocess the test image\n",
        "test_image_array = img_to_array(test_image)\n",
        "test_image_array = np.expand_dims(test_image_array, axis=0)\n",
        "test_image_array = test_image_array / 255.0"
      ]
    },
    {
      "cell_type": "code",
      "execution_count": null,
      "metadata": {
        "colab": {
          "base_uri": "https://localhost:8080/"
        },
        "id": "QXgdqiqazgbU",
        "outputId": "7b871c0a-9514-4ff9-ec2e-a3dd882eff5b"
      },
      "outputs": [
        {
          "output_type": "stream",
          "name": "stdout",
          "text": [
            "1/1 [==============================] - 2s 2s/step\n"
          ]
        }
      ],
      "source": [
        "# Extract features using the trained model\n",
        "test_features = model.predict(test_image_array)"
      ]
    },
    {
      "cell_type": "code",
      "execution_count": null,
      "metadata": {
        "id": "Jf08U86bzk7L"
      },
      "outputs": [],
      "source": [
        "# Use the SVM classifier to predict the class of the test image\n",
        "predicted_class = svm.predict(test_features)"
      ]
    },
    {
      "cell_type": "code",
      "execution_count": null,
      "metadata": {
        "colab": {
          "base_uri": "https://localhost:8080/"
        },
        "id": "cvdy586HznZk",
        "outputId": "129c6147-a187-4d71-b6ff-24a843eae008"
      },
      "outputs": [
        {
          "output_type": "stream",
          "name": "stdout",
          "text": [
            "The test image has TB.\n"
          ]
        }
      ],
      "source": [
        "# Print the predicted class\n",
        "if predicted_class == 0:\n",
        "    print('The test image is normal.')\n",
        "elif predicted_class == 1:\n",
        "    print('The test image has TB.')"
      ]
    },
    {
      "cell_type": "code",
      "execution_count": null,
      "metadata": {
        "colab": {
          "base_uri": "https://localhost:8080/",
          "height": 347
        },
        "id": "HSNak6R-kTNK",
        "outputId": "0d943fbb-4af5-43b8-e42d-e3f4fad63b89"
      },
      "outputs": [
        {
          "output_type": "stream",
          "name": "stdout",
          "text": [
            "Precision: 0.9714285714285714\n",
            "Recall: 0.9714285714285714\n",
            "F1 score: 0.9714285714285714\n"
          ]
        },
        {
          "output_type": "display_data",
          "data": {
            "text/plain": [
              "<Figure size 432x288 with 2 Axes>"
            ],
            "image/png": "[encoded data removed]"
          },
          "metadata": {
            "needs_background": "light"
          }
        }
      ],
      "source": [
        "# Plot the confusion matrix\n",
        "from sklearn.metrics import precision_score, recall_score, f1_score,confusion_matrix\n",
        "import matplotlib.pyplot as plt\n",
        "import seaborn as sns\n",
        "\n",
        "precision = precision_score(test_labels, predicted_classes, pos_label=1)\n",
        "recall = recall_score(test_labels, predicted_classes, pos_label=1)\n",
        "f1 = f1_score(test_labels, predicted_classes, pos_label=1)\n",
        "\n",
        "print(\"Precision:\", precision)\n",
        "print(\"Recall:\", recall)\n",
        "print(\"F1 score:\", f1)\n",
        "\n",
        "from sklearn.metrics import confusion_matrix\n",
        "\n",
        "\n",
        "cm = confusion_matrix(test_labels, predicted_classes)\n",
        "sns.heatmap(cm, annot=True, cmap='Blues', fmt='g')\n",
        "plt.xlabel('Predicted')\n",
        "plt.ylabel('True')\n",
        "plt.title('Confusion matrix')\n",
        "plt.show()"
      ]
    },
    {
      "cell_type": "code",
      "execution_count": null,
      "metadata": {
        "colab": {
          "base_uri": "https://localhost:8080/"
        },
        "id": "BcqFqRTekeCg",
        "outputId": "ede7b808-bea2-497d-9d62-83b5fd1ca2eb"
      },
      "outputs": [
        {
          "output_type": "stream",
          "name": "stdout",
          "text": [
            "Accuracy_score: 0.9714285714285714\n",
            "              precision    recall  f1-score   support\n",
            "\n",
            "    Negative       0.97      0.97      0.97       140\n",
            "    Positive       0.97      0.97      0.97       140\n",
            "\n",
            "    accuracy                           0.97       280\n",
            "   macro avg       0.97      0.97      0.97       280\n",
            "weighted avg       0.97      0.97      0.97       280\n",
            "\n"
          ]
        }
      ],
      "source": [
        "# Plot the classification report\n",
        "from sklearn.metrics import accuracy_score\n",
        "from sklearn.metrics import classification_report\n",
        "\n",
        "target_names = ['Negative', 'Positive']\n",
        "print(\"Accuracy_score:\",accuracy_score(test_labels, predicted_classes))\n",
        "print(classification_report(test_labels, predicted_classes, target_names=target_names))"
      ]
    }
  ],
  "metadata": {
    "colab": {
      "provenance": []
    },
    "gpuClass": "standard",
    "kernelspec": {
      "display_name": "Python 3",
      "name": "python3"
    },
    "language_info": {
      "name": "python"
    }
  },
  "nbformat": 4,
  "nbformat_minor": 0
}